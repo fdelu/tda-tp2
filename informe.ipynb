{
 "cells": [
  {
   "attachments": {},
   "cell_type": "markdown",
   "metadata": {},
   "source": [
    "## Trabajo Práctico 2 - Problema de Empaquetamiento"
   ]
  },
  {
   "attachments": {},
   "cell_type": "markdown",
   "metadata": {},
   "source": [
    "Curso Buchwald & Genender - 20231C\n",
    "\n",
    "**Alumnos:**\n",
    "- Felipe de Luca Andrea - 105646\n",
    "- Francisco de Luca Andrea - 109794"
   ]
  },
  {
   "attachments": {},
   "cell_type": "markdown",
   "metadata": {},
   "source": [
    "### Definición del problema\n",
    "Dado un conjunto de $n$ objetos cuyos tamaños son $\\{T_1, T_2, \\dotsb , T_n\\}$, con $T_i \\in (0, 1]$, se debe empaquetarlos usando la mínima\n",
    "cantidad de envases de capacidad 1.\n"
   ]
  },
  {
   "attachments": {},
   "cell_type": "markdown",
   "metadata": {},
   "source": [
    "#### 1. Demostrar que el problema de empaquetamiento es NP-Completo.\n"
   ]
  },
  {
   "attachments": {},
   "cell_type": "markdown",
   "metadata": {},
   "source": [
    "El problema de decisión de este problema es el siguiente: \n",
    "\n",
    "> Dados $n$ objetos cuyos tamaños son $\\{T_1, T_2, \\dotsb , T_n\\}$, con $T_i \\in (0, 1]$, y un número $k$, ¿es posible empaquetarlos en como mucho $k$ envases de capacidad 1?\n",
    "\n",
    "1. **El problema es NP**\n",
    "\n",
    "   Dados:\n",
    "    - Un conjunto de objetos: $T = \\{T_1, T_2, \\dotsb , T_n\\}$, con $T_i \\in (0, 1]$\n",
    "    - Una solución al problema, es decir, un conjunto de envases con los objetos de $T$: $E = \\{E_1, E_2, \\dotsb, E_k\\}$\n",
    "    - La cantidad de envases: $k = |E|$\n",
    "\n",
    "    Debemos demostrar que existe un algoritmo polinomial que permita verificar que la soluición $E$ es válida. Es sencillo ver que este algoritmo es polinomial: basta con recorrer todos los envases en $E$ verificando que la suma de los tamaños de los objetos en cada envase sea menor o igual a 1, y que al terminar de recorrer todos los envases, todos los objetos hayan sido empaquetados en exactamente un envase. Esto se puede hacer en tiempo $O(n)$ con el siguiente algoritmo:\n",
    "    ```\n",
    "    restantes = set(T)\n",
    "    for cada envase en E:\n",
    "        suma = 0\n",
    "        for cada objeto en envase:\n",
    "            suma += tamaño del objeto\n",
    "            if objeto no está en restantes:\n",
    "                return False\n",
    "            restantes.remove(objeto)\n",
    "        if suma > 1:\n",
    "            return False\n",
    "    return len(restantes) == 0\n",
    "    ```\n",
    "2. **El problema es NP-Completo**\n",
    "\n",
    "   Habiéndo demostrado que el problema es NP, podemos demostrar que es NP-completo reduciéndo otro problema NP-Completo a este. Para ello, vamos a utilizar el problema de _Balanceo de carga_. Este problema es NP-hard<sup>1</sup> y su problema de decisión es NP-completo<sup>2</sup>. El problema de decisión es:\n",
    "   \n",
    "    > Dadas $m'$ máquinas y $n'$ trabajos, y cada trabajo toma tiempo $T_j' \\in T'$, ¿es posible asignar los trabajos a las máquinas de forma que el tiempo de ejecución de cada máquina sea menor o igual a k'?\n",
    "   \n",
    "   Podemos reducirlo polinoimalmente al problema de empaquetamiento. Notar que, para cualquier conjunto de trabajos $A \\subset T'$:\n",
    "   $$\\sum_{t \\in A} t \\leq k' \\Leftrightarrow \\sum_{t \\in A} \\frac{t}{k'} \\leq 1$$\n",
    "   Si evaluamos el problema de empaquetamiento donde los tamaños de cada objeto son  $T_j = \\frac{T_j'}{k'}$ en a lo sumo $m'$ envases, tenemos entonces que:\n",
    "   1. Si el problema de empaquetamiento tiene solución, significa que fue posible asignar los objetos en $m'$ envases de forma tal que la suma en cada uno sea a lo sumo 1. Por lo tanto, si tomamos los trabajos de cada envase y los asignamos a una máquina, el tiempo de ejecución de cada máquina será menor o igual a $k'$, dando como resultado una solución válida del problema de balanceo de carga. \n",
    "   $$\\text{Empaquetamiento} \\Rightarrow \\text{Balanceo de carga}$$\n",
    "\n",
    "   2. De la misma manera, si el problema de balanceo de carga tiene una solución, entonces el problema de empaquetamiento va a tenerla también: se empaquetan los trabajos de cada máquina en un envase, que como sus tiempos suman a lo sumo $k'$, entonces los tamaños de cada envase no superarán 1.\n",
    "   $$\\text{Balanceo de carga} \\Rightarrow \\text{Empaquetamiento}$$\n",
    "   \n",
    "   Los casos donde no hay solución son sus contrarecíprocos.\n",
    "   \n",
    "   $$\\therefore \\; \\text{Empaquetamiento} \\Leftrightarrow \\text{Balanceo de carga}$$\n",
    "\n",
    "---\n",
    "\n",
    "1. De acuerdo a las [diapositivas de la cátedra](https://docs.google.com/presentation/d/1m6JJo9rOFg5rjmrHq5EtqVjWz-xMNQKjPChE6MsQRTE/edit#slide=id.g22c7a43fd5e_0_252)\n",
    "2. El problema de decisión de balanceo de carga $D(k')$ es NP-completo ya que:\n",
    "   1. El problema de optimización (NP-hard) se puede reducir polinomialmente a su problema de decisión haciendo una búsqueda binaria entre 0 y la cantidad de trabajos (asumiendo que todos los $T_j' \\leq k'$, caso contrario no hay solución), hasta encontrar el $k'$ mínimo tal que el problema de decisión será verdadero para $k'$ pero falso para $k' -1$, ya que $k'$ es óptimo  $ \\Leftrightarrow (\\neg D(k'-1)) \\land D(k')$\n",
    "   2. Es trivial implementar un algoritmo de verificación polinomial para demostrar que el problema de decisión es NP. Es, de hecho, el mismo algoritmo que para empaquetamiento solo que recorriendo trabajos en máquinas en vez de objetos en envases, y verificando que la suma sea menor a $k'$ en vez de 1"
   ]
  },
  {
   "attachments": {},
   "cell_type": "markdown",
   "metadata": {},
   "source": [
    "#### 2. Programar un algoritmo por Backtracking/Fuerza Bruta que busque la solución exacta del problema. Indicar la complejidad del mismo. Realizar mediciones del tiempo de ejecución, y realizar gráficos en función de $n$.\n"
   ]
  },
  {
   "attachments": {},
   "cell_type": "markdown",
   "metadata": {},
   "source": [
    "#### 3. Considerar el siguiente algoritmo: Se abre el primer envase y se empaqueta el primer objeto, luego por cada uno de los objetos restantes se prueba si cabe en el envase actual que está abierto. Si es así, se lo agrega a dicho envase, y se sigue con el siguiente objeto. Si no entra, se cierra el envase actual, se abre uno nuevo que pasa a ser el envase actual, se empaqueta el objeto y se prosigue con el siguiente. <br/> Este algoritmo sirve como una aproximación para resolver el problema de empaquetamiento. Implementar dicho algoritmo, analizar su complejidad, y analizar cuán buena aproximación es. Para esto, considerar lo siguiente: Sea $I$ una instancia cualquiera del problema de empaquetamiento, y $z(I)$ una solución óptima para dicha instancia, y sea $A(I)$ la solución aproximada, se define $\\frac{A(I)}{z(I)} \\leq r(A)$ para todas las instancias posibles. Calcular $r(A)$ para el algoritmo dado, demostrando que la cota está bien calculada. Realizar mediciones utilizando el algoritmo exacto y la aproximación, con el objetivo de verificar dicha relación.\n"
   ]
  },
  {
   "attachments": {},
   "cell_type": "markdown",
   "metadata": {},
   "source": [
    "#### 4. [Opcional] Implementar alguna otra aproximación (u algoritmo greedy) que les parezca de interés. Comparar sus resultados con los dados por la aproximación del punto 3. Indicar y justificar su complejidad."
   ]
  }
 ],
 "metadata": {
  "language_info": {
   "name": "python"
  },
  "orig_nbformat": 4
 },
 "nbformat": 4,
 "nbformat_minor": 2
}
